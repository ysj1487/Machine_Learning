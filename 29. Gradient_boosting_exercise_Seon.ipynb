{
 "cells": [
  {
   "cell_type": "markdown",
   "metadata": {},
   "source": [
    "# House_Price_Preprocessor"
   ]
  },
  {
   "cell_type": "code",
   "execution_count": 2,
   "metadata": {},
   "outputs": [],
   "source": [
    "train_dataset_dir = \"train.csv\"\n",
    "test_dataset_dir = \"test.csv\""
   ]
  },
  {
   "cell_type": "code",
   "execution_count": 3,
   "metadata": {},
   "outputs": [
    {
     "name": "stdout",
     "output_type": "stream",
     "text": [
      "Index(['Id', 'MSSubClass', 'MSZoning', 'LotFrontage', 'LotArea', 'Street',\n",
      "       'Alley', 'LotShape', 'LandContour', 'Utilities', 'LotConfig',\n",
      "       'LandSlope', 'Neighborhood', 'Condition1', 'Condition2', 'BldgType',\n",
      "       'HouseStyle', 'OverallQual', 'OverallCond', 'YearBuilt', 'YearRemodAdd',\n",
      "       'RoofStyle', 'RoofMatl', 'Exterior1st', 'Exterior2nd', 'MasVnrType',\n",
      "       'MasVnrArea', 'ExterQual', 'ExterCond', 'Foundation', 'BsmtQual',\n",
      "       'BsmtCond', 'BsmtExposure', 'BsmtFinType1', 'BsmtFinSF1',\n",
      "       'BsmtFinType2', 'BsmtFinSF2', 'BsmtUnfSF', 'TotalBsmtSF', 'Heating',\n",
      "       'HeatingQC', 'CentralAir', 'Electrical', '1stFlrSF', '2ndFlrSF',\n",
      "       'LowQualFinSF', 'GrLivArea', 'BsmtFullBath', 'BsmtHalfBath', 'FullBath',\n",
      "       'HalfBath', 'BedroomAbvGr', 'KitchenAbvGr', 'KitchenQual',\n",
      "       'TotRmsAbvGrd', 'Functional', 'Fireplaces', 'FireplaceQu', 'GarageType',\n",
      "       'GarageYrBlt', 'GarageFinish', 'GarageCars', 'GarageArea', 'GarageQual',\n",
      "       'GarageCond', 'PavedDrive', 'WoodDeckSF', 'OpenPorchSF',\n",
      "       'EnclosedPorch', '3SsnPorch', 'ScreenPorch', 'PoolArea', 'PoolQC',\n",
      "       'Fence', 'MiscFeature', 'MiscVal', 'MoSold', 'YrSold', 'SaleType',\n",
      "       'SaleCondition', 'SalePrice'],\n",
      "      dtype='object')\n",
      "Index(['Id', 'MSSubClass', 'MSZoning', 'LotFrontage', 'LotArea', 'Street',\n",
      "       'Alley', 'LotShape', 'LandContour', 'Utilities', 'LotConfig',\n",
      "       'LandSlope', 'Neighborhood', 'Condition1', 'Condition2', 'BldgType',\n",
      "       'HouseStyle', 'OverallQual', 'OverallCond', 'YearBuilt', 'YearRemodAdd',\n",
      "       'RoofStyle', 'RoofMatl', 'Exterior1st', 'Exterior2nd', 'MasVnrType',\n",
      "       'MasVnrArea', 'ExterQual', 'ExterCond', 'Foundation', 'BsmtQual',\n",
      "       'BsmtCond', 'BsmtExposure', 'BsmtFinType1', 'BsmtFinSF1',\n",
      "       'BsmtFinType2', 'BsmtFinSF2', 'BsmtUnfSF', 'TotalBsmtSF', 'Heating',\n",
      "       'HeatingQC', 'CentralAir', 'Electrical', '1stFlrSF', '2ndFlrSF',\n",
      "       'LowQualFinSF', 'GrLivArea', 'BsmtFullBath', 'BsmtHalfBath', 'FullBath',\n",
      "       'HalfBath', 'BedroomAbvGr', 'KitchenAbvGr', 'KitchenQual',\n",
      "       'TotRmsAbvGrd', 'Functional', 'Fireplaces', 'FireplaceQu', 'GarageType',\n",
      "       'GarageYrBlt', 'GarageFinish', 'GarageCars', 'GarageArea', 'GarageQual',\n",
      "       'GarageCond', 'PavedDrive', 'WoodDeckSF', 'OpenPorchSF',\n",
      "       'EnclosedPorch', '3SsnPorch', 'ScreenPorch', 'PoolArea', 'PoolQC',\n",
      "       'Fence', 'MiscFeature', 'MiscVal', 'MoSold', 'YrSold', 'SaleType',\n",
      "       'SaleCondition'],\n",
      "      dtype='object')\n",
      "<class 'pandas.core.frame.DataFrame'>\n",
      "RangeIndex: 1460 entries, 0 to 1459\n",
      "Data columns (total 81 columns):\n",
      "Id               1460 non-null int64\n",
      "MSSubClass       1460 non-null int64\n",
      "MSZoning         1460 non-null object\n",
      "LotFrontage      1201 non-null float64\n",
      "LotArea          1460 non-null int64\n",
      "Street           1460 non-null object\n",
      "Alley            91 non-null object\n",
      "LotShape         1460 non-null object\n",
      "LandContour      1460 non-null object\n",
      "Utilities        1460 non-null object\n",
      "LotConfig        1460 non-null object\n",
      "LandSlope        1460 non-null object\n",
      "Neighborhood     1460 non-null object\n",
      "Condition1       1460 non-null object\n",
      "Condition2       1460 non-null object\n",
      "BldgType         1460 non-null object\n",
      "HouseStyle       1460 non-null object\n",
      "OverallQual      1460 non-null int64\n",
      "OverallCond      1460 non-null int64\n",
      "YearBuilt        1460 non-null int64\n",
      "YearRemodAdd     1460 non-null int64\n",
      "RoofStyle        1460 non-null object\n",
      "RoofMatl         1460 non-null object\n",
      "Exterior1st      1460 non-null object\n",
      "Exterior2nd      1460 non-null object\n",
      "MasVnrType       1452 non-null object\n",
      "MasVnrArea       1452 non-null float64\n",
      "ExterQual        1460 non-null object\n",
      "ExterCond        1460 non-null object\n",
      "Foundation       1460 non-null object\n",
      "BsmtQual         1423 non-null object\n",
      "BsmtCond         1423 non-null object\n",
      "BsmtExposure     1422 non-null object\n",
      "BsmtFinType1     1423 non-null object\n",
      "BsmtFinSF1       1460 non-null int64\n",
      "BsmtFinType2     1422 non-null object\n",
      "BsmtFinSF2       1460 non-null int64\n",
      "BsmtUnfSF        1460 non-null int64\n",
      "TotalBsmtSF      1460 non-null int64\n",
      "Heating          1460 non-null object\n",
      "HeatingQC        1460 non-null object\n",
      "CentralAir       1460 non-null object\n",
      "Electrical       1459 non-null object\n",
      "1stFlrSF         1460 non-null int64\n",
      "2ndFlrSF         1460 non-null int64\n",
      "LowQualFinSF     1460 non-null int64\n",
      "GrLivArea        1460 non-null int64\n",
      "BsmtFullBath     1460 non-null int64\n",
      "BsmtHalfBath     1460 non-null int64\n",
      "FullBath         1460 non-null int64\n",
      "HalfBath         1460 non-null int64\n",
      "BedroomAbvGr     1460 non-null int64\n",
      "KitchenAbvGr     1460 non-null int64\n",
      "KitchenQual      1460 non-null object\n",
      "TotRmsAbvGrd     1460 non-null int64\n",
      "Functional       1460 non-null object\n",
      "Fireplaces       1460 non-null int64\n",
      "FireplaceQu      770 non-null object\n",
      "GarageType       1379 non-null object\n",
      "GarageYrBlt      1379 non-null float64\n",
      "GarageFinish     1379 non-null object\n",
      "GarageCars       1460 non-null int64\n",
      "GarageArea       1460 non-null int64\n",
      "GarageQual       1379 non-null object\n",
      "GarageCond       1379 non-null object\n",
      "PavedDrive       1460 non-null object\n",
      "WoodDeckSF       1460 non-null int64\n",
      "OpenPorchSF      1460 non-null int64\n",
      "EnclosedPorch    1460 non-null int64\n",
      "3SsnPorch        1460 non-null int64\n",
      "ScreenPorch      1460 non-null int64\n",
      "PoolArea         1460 non-null int64\n",
      "PoolQC           7 non-null object\n",
      "Fence            281 non-null object\n",
      "MiscFeature      54 non-null object\n",
      "MiscVal          1460 non-null int64\n",
      "MoSold           1460 non-null int64\n",
      "YrSold           1460 non-null int64\n",
      "SaleType         1460 non-null object\n",
      "SaleCondition    1460 non-null object\n",
      "SalePrice        1460 non-null int64\n",
      "dtypes: float64(3), int64(35), object(43)\n",
      "memory usage: 924.0+ KB\n"
     ]
    }
   ],
   "source": [
    "import pandas as pd\n",
    "import numpy as np\n",
    "\n",
    "train = pd.read_csv(\"train.csv\" )\n",
    "test = pd.read_csv(\"test.csv\" )\n",
    "\n",
    "print(train.columns)\n",
    "print(test.columns)\n",
    "train.info()"
   ]
  },
  {
   "cell_type": "code",
   "execution_count": 4,
   "metadata": {},
   "outputs": [
    {
     "name": "stdout",
     "output_type": "stream",
     "text": [
      "<class 'pandas.core.frame.DataFrame'>\n",
      "RangeIndex: 1460 entries, 0 to 1459\n",
      "Data columns (total 76 columns):\n",
      "Id               1460 non-null int64\n",
      "MSSubClass       1460 non-null int64\n",
      "MSZoning         1460 non-null object\n",
      "LotFrontage      1201 non-null float64\n",
      "LotArea          1460 non-null int64\n",
      "Street           1460 non-null object\n",
      "LotShape         1460 non-null object\n",
      "LandContour      1460 non-null object\n",
      "Utilities        1460 non-null object\n",
      "LotConfig        1460 non-null object\n",
      "LandSlope        1460 non-null object\n",
      "Neighborhood     1460 non-null object\n",
      "Condition1       1460 non-null object\n",
      "Condition2       1460 non-null object\n",
      "BldgType         1460 non-null object\n",
      "HouseStyle       1460 non-null object\n",
      "OverallQual      1460 non-null int64\n",
      "OverallCond      1460 non-null int64\n",
      "YearBuilt        1460 non-null int64\n",
      "YearRemodAdd     1460 non-null int64\n",
      "RoofStyle        1460 non-null object\n",
      "RoofMatl         1460 non-null object\n",
      "Exterior1st      1460 non-null object\n",
      "Exterior2nd      1460 non-null object\n",
      "MasVnrType       1452 non-null object\n",
      "MasVnrArea       1452 non-null float64\n",
      "ExterQual        1460 non-null object\n",
      "ExterCond        1460 non-null object\n",
      "Foundation       1460 non-null object\n",
      "BsmtQual         1423 non-null object\n",
      "BsmtCond         1423 non-null object\n",
      "BsmtExposure     1422 non-null object\n",
      "BsmtFinType1     1423 non-null object\n",
      "BsmtFinSF1       1460 non-null int64\n",
      "BsmtFinType2     1422 non-null object\n",
      "BsmtFinSF2       1460 non-null int64\n",
      "BsmtUnfSF        1460 non-null int64\n",
      "TotalBsmtSF      1460 non-null int64\n",
      "Heating          1460 non-null object\n",
      "HeatingQC        1460 non-null object\n",
      "CentralAir       1460 non-null object\n",
      "Electrical       1459 non-null object\n",
      "1stFlrSF         1460 non-null int64\n",
      "2ndFlrSF         1460 non-null int64\n",
      "LowQualFinSF     1460 non-null int64\n",
      "GrLivArea        1460 non-null int64\n",
      "BsmtFullBath     1460 non-null int64\n",
      "BsmtHalfBath     1460 non-null int64\n",
      "FullBath         1460 non-null int64\n",
      "HalfBath         1460 non-null int64\n",
      "BedroomAbvGr     1460 non-null int64\n",
      "KitchenAbvGr     1460 non-null int64\n",
      "KitchenQual      1460 non-null object\n",
      "TotRmsAbvGrd     1460 non-null int64\n",
      "Functional       1460 non-null object\n",
      "Fireplaces       1460 non-null int64\n",
      "GarageType       1379 non-null object\n",
      "GarageYrBlt      1379 non-null float64\n",
      "GarageFinish     1379 non-null object\n",
      "GarageCars       1460 non-null int64\n",
      "GarageArea       1460 non-null int64\n",
      "GarageQual       1379 non-null object\n",
      "GarageCond       1379 non-null object\n",
      "PavedDrive       1460 non-null object\n",
      "WoodDeckSF       1460 non-null int64\n",
      "OpenPorchSF      1460 non-null int64\n",
      "EnclosedPorch    1460 non-null int64\n",
      "3SsnPorch        1460 non-null int64\n",
      "ScreenPorch      1460 non-null int64\n",
      "PoolArea         1460 non-null int64\n",
      "MiscVal          1460 non-null int64\n",
      "MoSold           1460 non-null int64\n",
      "YrSold           1460 non-null int64\n",
      "SaleType         1460 non-null object\n",
      "SaleCondition    1460 non-null object\n",
      "SalePrice        1460 non-null int64\n",
      "dtypes: float64(3), int64(35), object(38)\n",
      "memory usage: 867.0+ KB\n"
     ]
    }
   ],
   "source": [
    "# 'Alley', 'FireplaceQu', 'PoolQC', 'Fence', 'MiscFeature' 칼럼 삭제\n",
    "train = train.drop(['Alley', 'FireplaceQu', 'PoolQC', 'Fence', 'MiscFeature'], axis=1)\n",
    "train.info()"
   ]
  },
  {
   "cell_type": "code",
   "execution_count": 5,
   "metadata": {},
   "outputs": [
    {
     "name": "stdout",
     "output_type": "stream",
     "text": [
      "<class 'pandas.core.frame.DataFrame'>\n",
      "RangeIndex: 1460 entries, 0 to 1459\n",
      "Columns: 272 entries, Id to SaleCondition_Partial\n",
      "dtypes: float64(3), int64(35), uint8(234)\n",
      "memory usage: 767.2 KB\n"
     ]
    }
   ],
   "source": [
    "# object data를 one-hot으로 변환\n",
    "train = pd.get_dummies(train)\n",
    "train.info()"
   ]
  },
  {
   "cell_type": "code",
   "execution_count": 6,
   "metadata": {},
   "outputs": [
    {
     "data": {
      "text/html": [
       "<div>\n",
       "<style scoped>\n",
       "    .dataframe tbody tr th:only-of-type {\n",
       "        vertical-align: middle;\n",
       "    }\n",
       "\n",
       "    .dataframe tbody tr th {\n",
       "        vertical-align: top;\n",
       "    }\n",
       "\n",
       "    .dataframe thead th {\n",
       "        text-align: right;\n",
       "    }\n",
       "</style>\n",
       "<table border=\"1\" class=\"dataframe\">\n",
       "  <thead>\n",
       "    <tr style=\"text-align: right;\">\n",
       "      <th></th>\n",
       "      <th>0</th>\n",
       "    </tr>\n",
       "  </thead>\n",
       "  <tbody>\n",
       "    <tr>\n",
       "      <td>Id</td>\n",
       "      <td>0</td>\n",
       "    </tr>\n",
       "    <tr>\n",
       "      <td>MSSubClass</td>\n",
       "      <td>0</td>\n",
       "    </tr>\n",
       "    <tr>\n",
       "      <td>LotFrontage</td>\n",
       "      <td>259</td>\n",
       "    </tr>\n",
       "    <tr>\n",
       "      <td>LotArea</td>\n",
       "      <td>0</td>\n",
       "    </tr>\n",
       "    <tr>\n",
       "      <td>OverallQual</td>\n",
       "      <td>0</td>\n",
       "    </tr>\n",
       "    <tr>\n",
       "      <td>...</td>\n",
       "      <td>...</td>\n",
       "    </tr>\n",
       "    <tr>\n",
       "      <td>SaleCondition_AdjLand</td>\n",
       "      <td>0</td>\n",
       "    </tr>\n",
       "    <tr>\n",
       "      <td>SaleCondition_Alloca</td>\n",
       "      <td>0</td>\n",
       "    </tr>\n",
       "    <tr>\n",
       "      <td>SaleCondition_Family</td>\n",
       "      <td>0</td>\n",
       "    </tr>\n",
       "    <tr>\n",
       "      <td>SaleCondition_Normal</td>\n",
       "      <td>0</td>\n",
       "    </tr>\n",
       "    <tr>\n",
       "      <td>SaleCondition_Partial</td>\n",
       "      <td>0</td>\n",
       "    </tr>\n",
       "  </tbody>\n",
       "</table>\n",
       "<p>272 rows × 1 columns</p>\n",
       "</div>"
      ],
      "text/plain": [
       "                         0\n",
       "Id                       0\n",
       "MSSubClass               0\n",
       "LotFrontage            259\n",
       "LotArea                  0\n",
       "OverallQual              0\n",
       "...                    ...\n",
       "SaleCondition_AdjLand    0\n",
       "SaleCondition_Alloca     0\n",
       "SaleCondition_Family     0\n",
       "SaleCondition_Normal     0\n",
       "SaleCondition_Partial    0\n",
       "\n",
       "[272 rows x 1 columns]"
      ]
     },
     "execution_count": 6,
     "metadata": {},
     "output_type": "execute_result"
    }
   ],
   "source": [
    "pd.DataFrame(train.isnull().sum())"
   ]
  },
  {
   "cell_type": "code",
   "execution_count": 7,
   "metadata": {},
   "outputs": [
    {
     "name": "stdout",
     "output_type": "stream",
     "text": [
      "<class 'pandas.core.frame.DataFrame'>\n",
      "RangeIndex: 1460 entries, 0 to 1459\n",
      "Columns: 269 entries, Id to SaleCondition_Partial\n",
      "dtypes: int64(35), uint8(234)\n",
      "memory usage: 733.0 KB\n"
     ]
    }
   ],
   "source": [
    "# 'LotFrontage', 'MasVnrArea', 'GarageYrBlt'  칼럼 삭제\n",
    "train = train.drop(['LotFrontage', 'MasVnrArea', 'GarageYrBlt'], axis=1)\n",
    "train.info()"
   ]
  },
  {
   "cell_type": "code",
   "execution_count": 8,
   "metadata": {},
   "outputs": [
    {
     "data": {
      "text/plain": [
       "Id                       0\n",
       "MSSubClass               0\n",
       "LotArea                  0\n",
       "OverallQual              0\n",
       "OverallCond              0\n",
       "                        ..\n",
       "SaleCondition_AdjLand    0\n",
       "SaleCondition_Alloca     0\n",
       "SaleCondition_Family     0\n",
       "SaleCondition_Normal     0\n",
       "SaleCondition_Partial    0\n",
       "Length: 269, dtype: int64"
      ]
     },
     "execution_count": 8,
     "metadata": {},
     "output_type": "execute_result"
    }
   ],
   "source": [
    "# column null 개수 계산\n",
    "train.isnull().sum()"
   ]
  },
  {
   "cell_type": "code",
   "execution_count": 9,
   "metadata": {},
   "outputs": [],
   "source": [
    "# x, y 나눔\n",
    "x = train.drop('SalePrice', axis=1)\n",
    "y = train['SalePrice']"
   ]
  },
  {
   "cell_type": "code",
   "execution_count": 10,
   "metadata": {},
   "outputs": [],
   "source": [
    "from sklearn.model_selection import train_test_split\n",
    "train_X, test_X, train_y, test_y = train_test_split(x, y, test_size=0.2)"
   ]
  },
  {
   "cell_type": "code",
   "execution_count": 11,
   "metadata": {},
   "outputs": [
    {
     "data": {
      "text/plain": [
       "((1168, 268), (292, 268), (1168,), (292,))"
      ]
     },
     "execution_count": 11,
     "metadata": {},
     "output_type": "execute_result"
    }
   ],
   "source": [
    "train_X.shape, test_X.shape, train_y.shape, test_y.shape"
   ]
  },
  {
   "cell_type": "code",
   "execution_count": 12,
   "metadata": {},
   "outputs": [],
   "source": [
    "from sklearn.ensemble import GradientBoostingRegressor\n",
    "from sklearn.linear_model import LinearRegression\n",
    "\n",
    "from sklearn.model_selection import cross_val_score\n",
    "\n",
    "import numpy as np"
   ]
  },
  {
   "cell_type": "code",
   "execution_count": 13,
   "metadata": {},
   "outputs": [],
   "source": [
    "gbr = GradientBoostingRegressor(n_estimators=2000, subsample=0.5, \\\n",
    "                                max_depth=2, learning_rate=0.55)\n",
    "lr = LinearRegression()\n",
    "\n",
    "# max_depth가 작아지변 estimator는 많아져야 - \\\n",
    "# tree 성능이 낮아지면 숫자를 늘려야"
   ]
  },
  {
   "cell_type": "code",
   "execution_count": 14,
   "metadata": {
    "scrolled": true
   },
   "outputs": [
    {
     "data": {
      "text/plain": [
       "0.7858260322051154"
      ]
     },
     "execution_count": 14,
     "metadata": {},
     "output_type": "execute_result"
    }
   ],
   "source": [
    "np.mean(cross_val_score(gbr, train_X, train_y, scoring=\"r2\" , cv=5))"
   ]
  },
  {
   "cell_type": "code",
   "execution_count": 15,
   "metadata": {},
   "outputs": [
    {
     "data": {
      "text/plain": [
       "0.8290226753768934"
      ]
     },
     "execution_count": 15,
     "metadata": {},
     "output_type": "execute_result"
    }
   ],
   "source": [
    "np.mean(cross_val_score(lr, train_X, train_y, scoring=\"r2\" , cv=5))"
   ]
  },
  {
   "cell_type": "code",
   "execution_count": 16,
   "metadata": {},
   "outputs": [
    {
     "data": {
      "text/plain": [
       "0.8290226753768934"
      ]
     },
     "execution_count": 16,
     "metadata": {},
     "output_type": "execute_result"
    }
   ],
   "source": [
    "np.mean(cross_val_score(lr, train_X, train_y, cv=5))"
   ]
  },
  {
   "cell_type": "code",
   "execution_count": 17,
   "metadata": {},
   "outputs": [],
   "source": [
    "def rmse(predictions, targets):\n",
    "    return np.sqrt(((predictions - targets) ** 2).mean())"
   ]
  },
  {
   "cell_type": "code",
   "execution_count": 18,
   "metadata": {},
   "outputs": [],
   "source": [
    "from sklearn.model_selection import train_test_split"
   ]
  },
  {
   "cell_type": "code",
   "execution_count": 19,
   "metadata": {},
   "outputs": [
    {
     "data": {
      "text/plain": [
       "LinearRegression(copy_X=True, fit_intercept=True, n_jobs=None, normalize=False)"
      ]
     },
     "execution_count": 19,
     "metadata": {},
     "output_type": "execute_result"
    }
   ],
   "source": [
    "gbr = GradientBoostingRegressor(\n",
    "        max_depth=2, n_estimators=5000, subsample=0.5,\\\n",
    "    learning_rate=0.05)\n",
    "X_train, X_val, y_train, y_val = \\\n",
    "        train_test_split(train_X, train_y, test_size=0.3)\n",
    "# X_train = train_X\n",
    "# X_test = test_X\n",
    "# y_train = train_y\n",
    "# y_test = test_y\n",
    "gbr.fit(X_train, y_train)\n",
    "errors_val = [rmse(y_val, y_pred) for y_pred in \\\n",
    "              gbr.staged_predict(X_val)]\n",
    "# gbr.staged_predict - estimator가 생길 때마다, predict를 하도록 한다\n",
    "errors_train = [rmse(y_train, y_pred) for y_pred in \\\n",
    "                gbr.staged_predict(X_train)]\n",
    "#errors_val과 errors_train을 비교해서 overfitting을 방지한다\n",
    "x_axis = list(range(len(errors_val)))\n",
    "\n",
    "lr = LinearRegression()\n",
    "lr.fit(X_train, y_train)"
   ]
  },
  {
   "cell_type": "code",
   "execution_count": 20,
   "metadata": {},
   "outputs": [
    {
     "data": {
      "text/plain": [
       "<Figure size 640x480 with 1 Axes>"
      ]
     },
     "metadata": {},
     "output_type": "display_data"
    }
   ],
   "source": [
    "import matplotlib.pyplot as plt\n",
    "import numpy as np\n",
    "\n",
    "\n",
    "ax = plt.subplot(111)\n",
    "plt.plot(x_axis, errors_val, label=\"validation_score\")\n",
    "plt.plot(x_axis, errors_train, label=\"train_score\")\n",
    "\n",
    "leg = plt.legend(loc='best', ncol=2, mode=\"expand\", \\\n",
    "                 shadow=True, fancybox=True)\n",
    "leg.get_frame().set_alpha(0.5)\n",
    "\n",
    "\n",
    "plt.show()"
   ]
  },
  {
   "cell_type": "code",
   "execution_count": 21,
   "metadata": {},
   "outputs": [
    {
     "name": "stdout",
     "output_type": "stream",
     "text": [
      "4236 29602.03748279894\n",
      "31263.43141375968\n"
     ]
    }
   ],
   "source": [
    "bst_n_estimators = np.argmin(errors_val)\n",
    "print(bst_n_estimators, errors_val[bst_n_estimators])\n",
    "print(rmse(y_val, lr.predict(X_val)))"
   ]
  },
  {
   "cell_type": "code",
   "execution_count": 22,
   "metadata": {},
   "outputs": [
    {
     "name": "stdout",
     "output_type": "stream",
     "text": [
      "0.9740996499768316\n",
      "0.8617942094439243\n"
     ]
    }
   ],
   "source": [
    "gbr = GradientBoostingRegressor(\n",
    "        max_depth=2, n_estimators=500, subsample=0.5,\\\n",
    "    learning_rate=0.05)\n",
    "X_train, X_val, y_train, y_val = \\\n",
    "    train_test_split(train_X, train_y, test_size=0.3)\n",
    "gbr.fit(X_train, y_train)\n",
    "print(gbr.score(X_train, y_train))\n",
    "print(gbr.score(X_val, y_val))\n"
   ]
  },
  {
   "cell_type": "code",
   "execution_count": 23,
   "metadata": {},
   "outputs": [
    {
     "data": {
      "text/plain": [
       "GradientBoostingRegressor(alpha=0.9, criterion='friedman_mse', init=None,\n",
       "                          learning_rate=0.05, loss='ls', max_depth=2,\n",
       "                          max_features=None, max_leaf_nodes=None,\n",
       "                          min_impurity_decrease=0.0, min_impurity_split=None,\n",
       "                          min_samples_leaf=1, min_samples_split=2,\n",
       "                          min_weight_fraction_leaf=0.0, n_estimators=500,\n",
       "                          n_iter_no_change=None, presort='auto',\n",
       "                          random_state=None, subsample=0.5, tol=0.0001,\n",
       "                          validation_fraction=0.1, verbose=0, warm_start=False)"
      ]
     },
     "execution_count": 23,
     "metadata": {},
     "output_type": "execute_result"
    }
   ],
   "source": [
    "gbr_best = GradientBoostingRegressor(max_depth=2, \\\n",
    "                subsample=0.5,learning_rate=0.05, n_estimators=500)\n",
    "gbr_best.fit(train_X, train_y)"
   ]
  },
  {
   "cell_type": "code",
   "execution_count": 24,
   "metadata": {},
   "outputs": [
    {
     "data": {
      "text/plain": [
       "621     240000\n",
       "677     109500\n",
       "321     354000\n",
       "867     129000\n",
       "778     144000\n",
       "         ...  \n",
       "1280    227000\n",
       "411     145000\n",
       "488     160000\n",
       "1319    111000\n",
       "158     254900\n",
       "Name: SalePrice, Length: 292, dtype: int64"
      ]
     },
     "execution_count": 24,
     "metadata": {},
     "output_type": "execute_result"
    }
   ],
   "source": [
    "test_y"
   ]
  },
  {
   "cell_type": "code",
   "execution_count": 25,
   "metadata": {},
   "outputs": [],
   "source": [
    "id_value=test_y\n",
    "sales_price = gbr_best.predict(test_X)"
   ]
  },
  {
   "cell_type": "code",
   "execution_count": 26,
   "metadata": {},
   "outputs": [
    {
     "data": {
      "text/plain": [
       "array([[240000.        , 237702.00358493],\n",
       "       [109500.        , 119831.40979247],\n",
       "       [354000.        , 331162.91719339],\n",
       "       [129000.        , 131695.21758004],\n",
       "       [144000.        , 146885.74307454],\n",
       "       [403000.        , 358125.03380169],\n",
       "       [149000.        , 149175.50510098],\n",
       "       [137500.        , 148018.79305352],\n",
       "       [160200.        , 169310.1214984 ],\n",
       "       [120000.        , 126845.85290059],\n",
       "       [129000.        , 115634.50385447],\n",
       "       [158000.        , 165770.87496829],\n",
       "       [372402.        , 333741.54654443],\n",
       "       [143000.        , 146537.64655197],\n",
       "       [225000.        , 237920.29580779],\n",
       "       [185500.        , 186048.2818977 ],\n",
       "       [286000.        , 270698.88045937],\n",
       "       [122500.        , 113546.69551113],\n",
       "       [163000.        , 148445.56397383],\n",
       "       [254000.        , 223266.77072135],\n",
       "       [195000.        , 192372.59453108],\n",
       "       [161750.        , 147157.39434869],\n",
       "       [133000.        , 132471.23212278],\n",
       "       [108500.        ,  72581.959337  ],\n",
       "       [301000.        , 256364.9369228 ],\n",
       "       [340000.        , 262839.86593263],\n",
       "       [287090.        , 264706.7813917 ],\n",
       "       [142500.        , 143939.92434626],\n",
       "       [135500.        , 126182.84079064],\n",
       "       [172500.        , 163592.37472705],\n",
       "       [200000.        , 195055.64213503],\n",
       "       [257000.        , 266365.86161199],\n",
       "       [147000.        , 154604.62508809],\n",
       "       [128500.        , 123560.42555704],\n",
       "       [178000.        , 178924.37216453],\n",
       "       [118964.        , 127269.63873771],\n",
       "       [125000.        , 118430.15625096],\n",
       "       [129000.        , 118914.48317835],\n",
       "       [ 72500.        ,  78987.55935279],\n",
       "       [128000.        , 109615.08529061],\n",
       "       [158000.        , 176235.33786585],\n",
       "       [320000.        , 333993.1071983 ],\n",
       "       [115000.        ,  95761.80559389],\n",
       "       [125000.        , 117626.82251996],\n",
       "       [341000.        , 313348.93886925],\n",
       "       [200500.        , 245918.09646928],\n",
       "       [148000.        , 146891.85077002],\n",
       "       [168500.        , 170679.39871794],\n",
       "       [239000.        , 218384.25089813],\n",
       "       [216837.        , 176647.98600246],\n",
       "       [266000.        , 267084.08059948],\n",
       "       [143000.        , 244250.84651361],\n",
       "       [165000.        , 171237.02357697],\n",
       "       [318000.        , 314504.14677977],\n",
       "       [248900.        , 252631.45510027],\n",
       "       [ 61000.        ,  83677.40613314],\n",
       "       [266000.        , 285213.01648589],\n",
       "       [127000.        , 121855.16837113],\n",
       "       [423000.        , 414368.09564709],\n",
       "       [155000.        , 161436.6544125 ],\n",
       "       [380000.        , 422929.85298021],\n",
       "       [150000.        , 169548.98394033],\n",
       "       [133000.        , 135193.72695926],\n",
       "       [229456.        , 251676.57961879],\n",
       "       [133900.        , 179460.60861898],\n",
       "       [219500.        , 199414.62789405],\n",
       "       [124900.        , 119928.99594905],\n",
       "       [192000.        , 222479.35627476],\n",
       "       [135000.        , 132967.81972619],\n",
       "       [187000.        , 183757.91601371],\n",
       "       [ 76000.        ,  87794.95057851],\n",
       "       [275000.        , 254807.61219351],\n",
       "       [253293.        , 378165.44303217],\n",
       "       [127000.        , 117847.93831337],\n",
       "       [175000.        , 210992.67870169],\n",
       "       [159000.        , 176770.6304436 ],\n",
       "       [214000.        , 227900.05740532],\n",
       "       [176485.        , 191678.84104936],\n",
       "       [325000.        , 310588.56179538],\n",
       "       [268000.        , 248594.29852586],\n",
       "       [210000.        , 206544.35302125],\n",
       "       [190000.        , 213368.88935433],\n",
       "       [139000.        , 127913.30309642],\n",
       "       [137900.        , 165644.31805973],\n",
       "       [192000.        , 206302.75342151],\n",
       "       [132000.        , 144376.6332309 ],\n",
       "       [ 90000.        , 103978.4781433 ],\n",
       "       [149900.        , 160583.90297422],\n",
       "       [395192.        , 422282.65679066],\n",
       "       [124000.        , 120435.27459475],\n",
       "       [102000.        , 107424.54689629],\n",
       "       [179900.        , 191823.84382178],\n",
       "       [121600.        , 108085.58421963],\n",
       "       [175000.        , 174388.8612679 ],\n",
       "       [145000.        , 155732.85144572],\n",
       "       [235000.        , 225841.60694025],\n",
       "       [119000.        , 120283.50953111],\n",
       "       [197000.        , 175681.63491568],\n",
       "       [193500.        , 208106.45887136],\n",
       "       [149350.        , 142026.36799883],\n",
       "       [135960.        , 140490.01754133],\n",
       "       [196000.        , 177334.18162673],\n",
       "       [239000.        , 246046.3832903 ],\n",
       "       [141000.        ,  65853.23717892],\n",
       "       [130000.        , 142161.92878672],\n",
       "       [127000.        , 129839.01614085],\n",
       "       [130500.        , 145249.40623683],\n",
       "       [130000.        , 157835.53318004],\n",
       "       [138800.        , 127755.26633134],\n",
       "       [134000.        , 138666.98267416],\n",
       "       [127000.        , 140152.76591417],\n",
       "       [193000.        , 191467.79907285],\n",
       "       [161500.        , 162553.29182652],\n",
       "       [205000.        , 204044.77457232],\n",
       "       [194500.        , 204820.75326873],\n",
       "       [127500.        , 137106.83922817],\n",
       "       [108000.        , 103348.91434621],\n",
       "       [193000.        , 183497.66309954],\n",
       "       [154900.        , 129554.28381279],\n",
       "       [112500.        , 114497.21692456],\n",
       "       [105000.        ,  97293.33787033],\n",
       "       [118000.        , 112940.63604908],\n",
       "       [133000.        , 128694.35629248],\n",
       "       [174000.        , 185414.56559317],\n",
       "       [446261.        , 467099.96165905],\n",
       "       [ 68400.        ,  70587.5824072 ],\n",
       "       [ 93000.        ,  87066.87815194],\n",
       "       [102000.        , 122036.17502109],\n",
       "       [140000.        , 139291.49024832],\n",
       "       [172500.        , 205768.92308275],\n",
       "       [175000.        , 186306.33490598],\n",
       "       [109000.        , 106048.4948785 ],\n",
       "       [185000.        , 184622.04804192],\n",
       "       [100000.        , 110899.47982307],\n",
       "       [157000.        , 157745.52299261],\n",
       "       [ 39300.        ,  52238.15142853],\n",
       "       [132500.        , 142671.17236476],\n",
       "       [ 91300.        ,  95767.55689822],\n",
       "       [181500.        , 170901.57928016],\n",
       "       [179000.        , 176154.70402257],\n",
       "       [377500.        , 342511.20697787],\n",
       "       [115000.        , 112264.32337748],\n",
       "       [197000.        , 236644.41458672],\n",
       "       [280000.        , 232838.52582647],\n",
       "       [133000.        , 153324.75071989],\n",
       "       [392500.        , 298300.97115716],\n",
       "       [145250.        , 146990.51225401],\n",
       "       [103200.        ,  93540.80116632],\n",
       "       [136905.        , 145608.49581664],\n",
       "       [170000.        , 183999.03916564],\n",
       "       [184900.        , 186161.11909726],\n",
       "       [185000.        , 192625.61481621],\n",
       "       [110000.        , 106635.49496345],\n",
       "       [163000.        , 150403.44147794],\n",
       "       [157000.        , 159705.92314888],\n",
       "       [153900.        , 141034.34927777],\n",
       "       [274300.        , 239362.00458881],\n",
       "       [165000.        , 179983.61370694],\n",
       "       [258000.        , 250751.16936985],\n",
       "       [202500.        , 197163.26388968],\n",
       "       [109900.        , 108986.63936948],\n",
       "       [ 88000.        ,  96072.32244601],\n",
       "       [107400.        , 104964.75016061],\n",
       "       [ 55000.        ,  56856.26514034],\n",
       "       [187500.        , 219254.21076548],\n",
       "       [275000.        , 278249.76803657],\n",
       "       [126175.        , 129940.30133467],\n",
       "       [145000.        , 168374.22643316],\n",
       "       [755000.        , 580252.4310788 ],\n",
       "       [142000.        , 135888.72559979],\n",
       "       [ 80000.        ,  78464.49515029],\n",
       "       [101000.        ,  97763.3918184 ],\n",
       "       [206900.        , 189894.36390211],\n",
       "       [ 86000.        ,  96950.82739056],\n",
       "       [132250.        , 147329.64510487],\n",
       "       [176000.        , 173296.84158271],\n",
       "       [178740.        , 175644.86739857],\n",
       "       [153500.        , 147600.83429368],\n",
       "       [140000.        , 130241.54598836],\n",
       "       [103000.        ,  92841.36979248],\n",
       "       [173000.        , 164513.60963084],\n",
       "       [155000.        , 142915.24662835],\n",
       "       [197500.        , 181879.1166711 ],\n",
       "       [185900.        , 199474.46440989],\n",
       "       [127500.        , 127221.3922583 ],\n",
       "       [226700.        , 204239.80388788],\n",
       "       [320000.        , 332389.66560022],\n",
       "       [106500.        , 112727.77868305],\n",
       "       [135000.        , 136851.69347879],\n",
       "       [139000.        , 143265.53727069],\n",
       "       [130250.        , 121962.76197726],\n",
       "       [194201.        , 194043.97156343],\n",
       "       [274900.        , 303020.10214267],\n",
       "       [222000.        , 229240.47388615],\n",
       "       [309000.        , 298546.95585625],\n",
       "       [115000.        , 103915.48440441],\n",
       "       [177500.        , 169971.15040299],\n",
       "       [222500.        , 227679.203713  ],\n",
       "       [140000.        , 132290.481526  ],\n",
       "       [108480.        ,  95608.59298053],\n",
       "       [117000.        , 118692.47420003],\n",
       "       [236500.        , 245064.47331759],\n",
       "       [185000.        , 195235.59938442],\n",
       "       [171750.        , 176045.64408364],\n",
       "       [107500.        , 107464.93492203],\n",
       "       [128900.        , 128567.29963565],\n",
       "       [168500.        , 158501.23896026],\n",
       "       [113000.        , 101376.47100471],\n",
       "       [124500.        , 135246.18358224],\n",
       "       [194000.        , 199356.63525353],\n",
       "       [ 79000.        ,  70244.31023363],\n",
       "       [185750.        , 174886.67955369],\n",
       "       [210000.        , 175613.45330569],\n",
       "       [171000.        , 164934.77009668],\n",
       "       [137450.        , 145600.75651943],\n",
       "       [154000.        , 186225.50927906],\n",
       "       [128000.        , 122494.32109326],\n",
       "       [177500.        , 174673.55740851],\n",
       "       [168000.        , 161222.82986906],\n",
       "       [127500.        , 121331.2692468 ],\n",
       "       [117500.        , 119558.80993712],\n",
       "       [ 83000.        ,  77015.14803504],\n",
       "       [289000.        , 263249.95067956],\n",
       "       [210000.        , 221877.63173095],\n",
       "       [ 55000.        ,  63127.94420732],\n",
       "       [205000.        , 229680.56640496],\n",
       "       [142500.        , 141085.7633539 ],\n",
       "       [156000.        , 156547.31605028],\n",
       "       [145000.        , 144214.13945054],\n",
       "       [283463.        , 290774.51013759],\n",
       "       [ 81000.        ,  88142.51698023],\n",
       "       [131500.        , 144197.67769777],\n",
       "       [412500.        , 390947.04588396],\n",
       "       [225000.        , 226469.84578686],\n",
       "       [ 82000.        ,  86836.41931373],\n",
       "       [119900.        , 124039.89234123],\n",
       "       [143000.        , 153866.05589967],\n",
       "       [126000.        , 129182.31613322],\n",
       "       [178400.        , 199425.31410432],\n",
       "       [157000.        , 172325.62402846],\n",
       "       [189000.        , 195655.69517767],\n",
       "       [333168.        , 340917.47771621],\n",
       "       [160000.        , 338368.96603841],\n",
       "       [129900.        , 140114.90771761],\n",
       "       [140000.        , 126160.13116693],\n",
       "       [102000.        , 101549.06112132],\n",
       "       [188700.        , 171839.82916404],\n",
       "       [266500.        , 247250.62711391],\n",
       "       [ 79000.        ,  97962.60617627],\n",
       "       [128000.        , 106005.57023052],\n",
       "       [172400.        , 171648.3712426 ],\n",
       "       [213000.        , 207628.01149515],\n",
       "       [109500.        , 116067.94717232],\n",
       "       [169000.        , 180153.15723992],\n",
       "       [317000.        , 300454.64196676],\n",
       "       [134000.        , 140700.9161724 ],\n",
       "       [145000.        , 176356.5558605 ],\n",
       "       [263000.        , 222975.04286928],\n",
       "       [140000.        , 136319.34303928],\n",
       "       [ 85000.        ,  99783.66367995],\n",
       "       [206300.        , 210944.41452756],\n",
       "       [110000.        , 138617.51326569],\n",
       "       [ 88000.        ,  81999.57896195],\n",
       "       [159950.        , 141620.64391271],\n",
       "       [174500.        , 184764.63522068],\n",
       "       [430000.        , 255450.70844857],\n",
       "       [239000.        , 220058.13080309],\n",
       "       [126500.        , 119543.99514759],\n",
       "       [177500.        , 165810.20736145],\n",
       "       [260000.        , 238415.8084113 ],\n",
       "       [294000.        , 252688.17410196],\n",
       "       [180000.        , 183043.02704736],\n",
       "       [185000.        , 189523.95919758],\n",
       "       [178000.        , 215688.03189325],\n",
       "       [315000.        , 287645.43811385],\n",
       "       [280000.        , 269847.2987541 ],\n",
       "       [167000.        , 169492.18321717],\n",
       "       [215000.        , 220723.21858829],\n",
       "       [132000.        , 142173.81219153],\n",
       "       [174000.        , 176092.89279797],\n",
       "       [131500.        , 125241.92099515],\n",
       "       [163500.        , 173818.11963896],\n",
       "       [142953.        , 145712.08454193],\n",
       "       [159000.        , 148492.60407518],\n",
       "       [250000.        , 236360.09258515],\n",
       "       [224500.        , 224904.56952381],\n",
       "       [118000.        , 120980.06115167],\n",
       "       [227000.        , 209367.28521873],\n",
       "       [145000.        , 149273.02535076],\n",
       "       [160000.        , 134938.97302996],\n",
       "       [111000.        , 117045.44037867],\n",
       "       [254900.        , 226975.56553469]])"
      ]
     },
     "execution_count": 26,
     "metadata": {},
     "output_type": "execute_result"
    }
   ],
   "source": [
    "result = np.vstack([id_value, sales_price]).T\n",
    "\n",
    "result"
   ]
  },
  {
   "cell_type": "code",
   "execution_count": 35,
   "metadata": {},
   "outputs": [],
   "source": [
    "from pandas import DataFrame\n",
    "\n",
    "DataFrame(result, dtype=int, columns=[\"Id\", \"SalePrice\"]).\\\n",
    "            set_index(\"Id\").to_csv(\"house_price_result.csv\")\n",
    "# DataFrame(result, columns=[\"Id\", \"SalePrice\"]).s\\\n",
    "#         et_index(\"Id\").to_csv(\"house_price_result.csv\")"
   ]
  },
  {
   "cell_type": "code",
   "execution_count": 42,
   "metadata": {},
   "outputs": [],
   "source": [
    "from sklearn.model_selection import ShuffleSplit\n",
    "from sklearn.model_selection import GridSearchCV \n",
    "\n",
    "param_grid={'n_estimators':[50, 100], \n",
    "                'learning_rate': [0.1, 0.05], #0.02, 0.01], \n",
    "                'subsample' : [0.4,0.5],#,0.6,0.7,0.8],\n",
    "                'max_depth':[2, 4], #6 ,8], \n",
    "                'min_samples_leaf':[3, 5],#,9,15], \n",
    "                'max_features':[1.0, 0.3]#, 0.1] \n",
    "           } \n",
    "n_jobs=1"
   ]
  },
  {
   "cell_type": "code",
   "execution_count": 43,
   "metadata": {},
   "outputs": [
    {
     "name": "stdout",
     "output_type": "stream",
     "text": [
      "Fitting 817 folds for each of 64 candidates, totalling 52288 fits\n"
     ]
    },
    {
     "name": "stderr",
     "output_type": "stream",
     "text": [
      "[Parallel(n_jobs=-1)]: Using backend LokyBackend with 4 concurrent workers.\n",
      "[Parallel(n_jobs=-1)]: Done  42 tasks      | elapsed:   12.8s\n",
      "[Parallel(n_jobs=-1)]: Done 192 tasks      | elapsed:   34.4s\n",
      "[Parallel(n_jobs=-1)]: Done 442 tasks      | elapsed:  1.1min\n",
      "[Parallel(n_jobs=-1)]: Done 792 tasks      | elapsed:  1.8min\n",
      "[Parallel(n_jobs=-1)]: Done 1242 tasks      | elapsed:  3.0min\n",
      "[Parallel(n_jobs=-1)]: Done 1792 tasks      | elapsed:  4.6min\n",
      "[Parallel(n_jobs=-1)]: Done 2442 tasks      | elapsed:  7.5min\n",
      "[Parallel(n_jobs=-1)]: Done 3192 tasks      | elapsed: 11.5min\n",
      "[Parallel(n_jobs=-1)]: Done 4042 tasks      | elapsed: 13.8min\n",
      "[Parallel(n_jobs=-1)]: Done 4992 tasks      | elapsed: 16.9min\n",
      "[Parallel(n_jobs=-1)]: Done 6042 tasks      | elapsed: 22.4min\n",
      "[Parallel(n_jobs=-1)]: Done 7192 tasks      | elapsed: 25.9min\n",
      "[Parallel(n_jobs=-1)]: Done 8442 tasks      | elapsed: 27.8min\n",
      "[Parallel(n_jobs=-1)]: Done 9792 tasks      | elapsed: 31.1min\n",
      "[Parallel(n_jobs=-1)]: Done 11242 tasks      | elapsed: 33.4min\n",
      "[Parallel(n_jobs=-1)]: Done 12792 tasks      | elapsed: 36.9min\n",
      "[Parallel(n_jobs=-1)]: Done 14442 tasks      | elapsed: 45.8min\n",
      "[Parallel(n_jobs=-1)]: Done 16192 tasks      | elapsed: 55.4min\n",
      "[Parallel(n_jobs=-1)]: Done 18042 tasks      | elapsed: 61.6min\n",
      "[Parallel(n_jobs=-1)]: Done 19992 tasks      | elapsed: 71.3min\n",
      "[Parallel(n_jobs=-1)]: Done 22042 tasks      | elapsed: 74.4min\n",
      "[Parallel(n_jobs=-1)]: Done 24192 tasks      | elapsed: 77.7min\n",
      "[Parallel(n_jobs=-1)]: Done 26442 tasks      | elapsed: 82.2min\n",
      "[Parallel(n_jobs=-1)]: Done 28792 tasks      | elapsed: 87.3min\n",
      "[Parallel(n_jobs=-1)]: Done 31242 tasks      | elapsed: 92.5min\n",
      "[Parallel(n_jobs=-1)]: Done 33792 tasks      | elapsed: 98.2min\n",
      "[Parallel(n_jobs=-1)]: Done 36442 tasks      | elapsed: 100.8min\n",
      "[Parallel(n_jobs=-1)]: Done 39192 tasks      | elapsed: 103.5min\n",
      "[Parallel(n_jobs=-1)]: Done 42042 tasks      | elapsed: 114.6min\n",
      "[Parallel(n_jobs=-1)]: Done 44992 tasks      | elapsed: 126.6min\n",
      "[Parallel(n_jobs=-1)]: Done 48042 tasks      | elapsed: 134.5min\n",
      "[Parallel(n_jobs=-1)]: Done 51192 tasks      | elapsed: 139.7min\n",
      "[Parallel(n_jobs=-1)]: Done 52288 out of 52288 | elapsed: 142.1min finished\n"
     ]
    },
    {
     "name": "stdout",
     "output_type": "stream",
     "text": [
      "GradientBoostingRegressor(alpha=0.9, criterion='friedman_mse', init=None,\n",
      "                          learning_rate=0.05, loss='ls', max_depth=4,\n",
      "                          max_features=0.3, max_leaf_nodes=None,\n",
      "                          min_impurity_decrease=0.0, min_impurity_split=None,\n",
      "                          min_samples_leaf=5, min_samples_split=2,\n",
      "                          min_weight_fraction_leaf=0.0, n_estimators=100,\n",
      "                          n_iter_no_change=None, presort='auto',\n",
      "                          random_state=None, subsample=0.4, tol=0.0001,\n",
      "                          validation_fraction=0.1, verbose=0, warm_start=True)\n"
     ]
    }
   ],
   "source": [
    "classifier.fit(train_X, train_y)\n",
    "print (classifier.best_estimator_)"
   ]
  },
  {
   "cell_type": "code",
   "execution_count": 44,
   "metadata": {},
   "outputs": [
    {
     "name": "stdout",
     "output_type": "stream",
     "text": [
      "18721.467036422055\n"
     ]
    }
   ],
   "source": [
    "print(rmse(y_val, classifier.best_estimator_.predict(X_val)))"
   ]
  },
  {
   "cell_type": "code",
   "execution_count": 45,
   "metadata": {},
   "outputs": [
    {
     "name": "stdout",
     "output_type": "stream",
     "text": [
      "18721.467036422055\n"
     ]
    }
   ],
   "source": [
    "print(rmse(y_val, classifier.predict(X_val)))"
   ]
  },
  {
   "cell_type": "markdown",
   "metadata": {},
   "source": [
    "# Score checking"
   ]
  },
  {
   "cell_type": "code",
   "execution_count": 46,
   "metadata": {
    "scrolled": true
   },
   "outputs": [
    {
     "data": {
      "text/plain": [
       "GradientBoostingRegressor(alpha=0.9, criterion='friedman_mse', init=None,\n",
       "                          learning_rate=0.05, loss='ls', max_depth=4,\n",
       "                          max_features=0.3, max_leaf_nodes=None,\n",
       "                          min_impurity_decrease=0.0, min_impurity_split=None,\n",
       "                          min_samples_leaf=5, min_samples_split=2,\n",
       "                          min_weight_fraction_leaf=0.0, n_estimators=100,\n",
       "                          n_iter_no_change=None, presort='auto',\n",
       "                          random_state=None, subsample=0.4, tol=0.0001,\n",
       "                          validation_fraction=0.1, verbose=0, warm_start=True)"
      ]
     },
     "execution_count": 46,
     "metadata": {},
     "output_type": "execute_result"
    }
   ],
   "source": [
    "final_estimator = classifier.best_estimator_\n",
    "final_estimator.fit(train_X, train_y)"
   ]
  },
  {
   "cell_type": "code",
   "execution_count": 47,
   "metadata": {},
   "outputs": [
    {
     "name": "stdout",
     "output_type": "stream",
     "text": [
      "18721.467036422055\n"
     ]
    }
   ],
   "source": [
    "print(rmse(y_val, final_estimator.predict(X_val)))"
   ]
  },
  {
   "cell_type": "code",
   "execution_count": 48,
   "metadata": {},
   "outputs": [
    {
     "name": "stdout",
     "output_type": "stream",
     "text": [
      "0.9336718304992249\n"
     ]
    }
   ],
   "source": [
    "print(final_estimator.score(X_train, y_train))"
   ]
  },
  {
   "cell_type": "code",
   "execution_count": 49,
   "metadata": {},
   "outputs": [
    {
     "name": "stdout",
     "output_type": "stream",
     "text": [
      "0.9407471361091984\n"
     ]
    }
   ],
   "source": [
    "print(final_estimator.score(X_val, y_val))"
   ]
  },
  {
   "cell_type": "code",
   "execution_count": 50,
   "metadata": {},
   "outputs": [],
   "source": [
    "id_value=test_y\n",
    "sales_price = final_estimator.predict(test_X)\n",
    "result = np.vstack([id_value, sales_price]).T\n",
    "submission_df =DataFrame(result, columns=[\"Id\", \"SalePrice\"]).set_index(\"Id\")\n",
    "submission_df.index = submission_df.index.astype(int)\n",
    "submission_df.to_csv(\"house_price_result_grid_search.csv\")"
   ]
  }
 ],
 "metadata": {
  "anaconda-cloud": {},
  "kernelspec": {
   "display_name": "Python 3",
   "language": "python",
   "name": "python3"
  },
  "language_info": {
   "codemirror_mode": {
    "name": "ipython",
    "version": 3
   },
   "file_extension": ".py",
   "mimetype": "text/x-python",
   "name": "python",
   "nbconvert_exporter": "python",
   "pygments_lexer": "ipython3",
   "version": "3.7.4"
  }
 },
 "nbformat": 4,
 "nbformat_minor": 4
}
